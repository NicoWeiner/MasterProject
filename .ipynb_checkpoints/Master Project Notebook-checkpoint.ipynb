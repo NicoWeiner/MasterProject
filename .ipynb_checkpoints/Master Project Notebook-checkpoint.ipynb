{
 "cells": [
  {
   "cell_type": "markdown",
   "metadata": {},
   "source": [
    "# Master Project Real Estate NLP Analysis - Nicolas Weiner"
   ]
  },
  {
   "cell_type": "markdown",
   "metadata": {},
   "source": [
    "This is a notebook with various NLP analyses of the Dutch Real Estate market based on extended Funda data. \n",
    "The applied NLP tools are elaborated in each heading. "
   ]
  },
  {
   "cell_type": "code",
   "execution_count": 32,
   "metadata": {},
   "outputs": [
    {
     "name": "stdout",
     "output_type": "stream",
     "text": [
      "Requirement already up-to-date: pip in /Users/nicoweiner/opt/anaconda3/lib/python3.7/site-packages (20.0.2)\n",
      "Requirement already satisfied: pandas in /Users/nicoweiner/opt/anaconda3/lib/python3.7/site-packages (0.25.1)\n",
      "Requirement already satisfied: numpy>=1.13.3 in /Users/nicoweiner/opt/anaconda3/lib/python3.7/site-packages (from pandas) (1.17.2)\n",
      "Requirement already satisfied: pytz>=2017.2 in /Users/nicoweiner/opt/anaconda3/lib/python3.7/site-packages (from pandas) (2019.3)\n",
      "Requirement already satisfied: python-dateutil>=2.6.1 in /Users/nicoweiner/opt/anaconda3/lib/python3.7/site-packages (from pandas) (2.8.0)\n",
      "Requirement already satisfied: six>=1.5 in /Users/nicoweiner/opt/anaconda3/lib/python3.7/site-packages (from python-dateutil>=2.6.1->pandas) (1.14.0)\n",
      "Requirement already satisfied: numpy in /Users/nicoweiner/opt/anaconda3/lib/python3.7/site-packages (1.17.2)\n",
      "Requirement already satisfied: scikit-learn in /Users/nicoweiner/opt/anaconda3/lib/python3.7/site-packages (0.21.3)\n",
      "Requirement already satisfied: scipy>=0.17.0 in /Users/nicoweiner/opt/anaconda3/lib/python3.7/site-packages (from scikit-learn) (1.4.1)\n",
      "Requirement already satisfied: numpy>=1.11.0 in /Users/nicoweiner/opt/anaconda3/lib/python3.7/site-packages (from scikit-learn) (1.17.2)\n",
      "Requirement already satisfied: joblib>=0.11 in /Users/nicoweiner/opt/anaconda3/lib/python3.7/site-packages (from scikit-learn) (0.13.2)\n",
      "Requirement already satisfied: scipy in /Users/nicoweiner/opt/anaconda3/lib/python3.7/site-packages (1.4.1)\n",
      "Requirement already satisfied: numpy>=1.13.3 in /Users/nicoweiner/opt/anaconda3/lib/python3.7/site-packages (from scipy) (1.17.2)\n",
      "Requirement already satisfied: nltk in /Users/nicoweiner/opt/anaconda3/lib/python3.7/site-packages (3.4.5)\n",
      "Requirement already satisfied: six in /Users/nicoweiner/opt/anaconda3/lib/python3.7/site-packages (from nltk) (1.14.0)\n",
      "Requirement already satisfied: pydeepl in /Users/nicoweiner/opt/anaconda3/lib/python3.7/site-packages (0.13)\n",
      "Requirement already satisfied: requests>=2.18.4 in /Users/nicoweiner/opt/anaconda3/lib/python3.7/site-packages (from pydeepl) (2.22.0)\n",
      "Requirement already satisfied: certifi>=2017.4.17 in /Users/nicoweiner/opt/anaconda3/lib/python3.7/site-packages (from requests>=2.18.4->pydeepl) (2019.9.11)\n",
      "Requirement already satisfied: urllib3!=1.25.0,!=1.25.1,<1.26,>=1.21.1 in /Users/nicoweiner/opt/anaconda3/lib/python3.7/site-packages (from requests>=2.18.4->pydeepl) (1.24.2)\n",
      "Requirement already satisfied: chardet<3.1.0,>=3.0.2 in /Users/nicoweiner/opt/anaconda3/lib/python3.7/site-packages (from requests>=2.18.4->pydeepl) (3.0.4)\n",
      "Requirement already satisfied: idna<2.9,>=2.5 in /Users/nicoweiner/opt/anaconda3/lib/python3.7/site-packages (from requests>=2.18.4->pydeepl) (2.8)\n",
      "Requirement already satisfied: translate in /Users/nicoweiner/opt/anaconda3/lib/python3.7/site-packages (3.5.0)\n",
      "Requirement already satisfied: tox in /Users/nicoweiner/opt/anaconda3/lib/python3.7/site-packages (from translate) (3.14.5)\n",
      "Requirement already satisfied: lxml in /Users/nicoweiner/opt/anaconda3/lib/python3.7/site-packages (from translate) (4.4.1)\n",
      "Requirement already satisfied: click in /Users/nicoweiner/opt/anaconda3/lib/python3.7/site-packages (from translate) (7.0)\n",
      "Requirement already satisfied: pre-commit in /Users/nicoweiner/opt/anaconda3/lib/python3.7/site-packages (from translate) (2.2.0)\n",
      "Requirement already satisfied: requests in /Users/nicoweiner/opt/anaconda3/lib/python3.7/site-packages (from translate) (2.22.0)\n",
      "Requirement already satisfied: pluggy<1,>=0.12.0 in /Users/nicoweiner/opt/anaconda3/lib/python3.7/site-packages (from tox->translate) (0.13.0)\n",
      "Requirement already satisfied: toml>=0.9.4 in /Users/nicoweiner/opt/anaconda3/lib/python3.7/site-packages (from tox->translate) (0.10.0)\n",
      "Requirement already satisfied: filelock<4,>=3.0.0 in /Users/nicoweiner/opt/anaconda3/lib/python3.7/site-packages (from tox->translate) (3.0.12)\n",
      "Requirement already satisfied: packaging>=14 in /Users/nicoweiner/opt/anaconda3/lib/python3.7/site-packages (from tox->translate) (19.2)\n",
      "Requirement already satisfied: virtualenv>=16.0.0 in /Users/nicoweiner/opt/anaconda3/lib/python3.7/site-packages (from tox->translate) (20.0.10)\n",
      "Requirement already satisfied: py<2,>=1.4.17 in /Users/nicoweiner/opt/anaconda3/lib/python3.7/site-packages (from tox->translate) (1.8.0)\n",
      "Requirement already satisfied: six<2,>=1.14.0 in /Users/nicoweiner/opt/anaconda3/lib/python3.7/site-packages (from tox->translate) (1.14.0)\n",
      "Requirement already satisfied: importlib-metadata<2,>=0.12; python_version < \"3.8\" in /Users/nicoweiner/opt/anaconda3/lib/python3.7/site-packages (from tox->translate) (0.23)\n",
      "Requirement already satisfied: cfgv>=2.0.0 in /Users/nicoweiner/opt/anaconda3/lib/python3.7/site-packages (from pre-commit->translate) (3.1.0)\n",
      "Requirement already satisfied: identify>=1.0.0 in /Users/nicoweiner/opt/anaconda3/lib/python3.7/site-packages (from pre-commit->translate) (1.4.11)\n",
      "Requirement already satisfied: pyyaml>=5.1 in /Users/nicoweiner/opt/anaconda3/lib/python3.7/site-packages (from pre-commit->translate) (5.1.2)\n",
      "Requirement already satisfied: nodeenv>=0.11.1 in /Users/nicoweiner/opt/anaconda3/lib/python3.7/site-packages (from pre-commit->translate) (1.3.5)\n",
      "Requirement already satisfied: idna<2.9,>=2.5 in /Users/nicoweiner/opt/anaconda3/lib/python3.7/site-packages (from requests->translate) (2.8)\n",
      "Requirement already satisfied: certifi>=2017.4.17 in /Users/nicoweiner/opt/anaconda3/lib/python3.7/site-packages (from requests->translate) (2019.9.11)\n",
      "Requirement already satisfied: chardet<3.1.0,>=3.0.2 in /Users/nicoweiner/opt/anaconda3/lib/python3.7/site-packages (from requests->translate) (3.0.4)\n",
      "Requirement already satisfied: urllib3!=1.25.0,!=1.25.1,<1.26,>=1.21.1 in /Users/nicoweiner/opt/anaconda3/lib/python3.7/site-packages (from requests->translate) (1.24.2)\n",
      "Requirement already satisfied: pyparsing>=2.0.2 in /Users/nicoweiner/opt/anaconda3/lib/python3.7/site-packages (from packaging>=14->tox->translate) (2.4.2)\n",
      "Requirement already satisfied: appdirs<2,>=1.4.3 in /Users/nicoweiner/opt/anaconda3/lib/python3.7/site-packages (from virtualenv>=16.0.0->tox->translate) (1.4.3)\n",
      "Requirement already satisfied: distlib<1,>=0.3.0 in /Users/nicoweiner/opt/anaconda3/lib/python3.7/site-packages (from virtualenv>=16.0.0->tox->translate) (0.3.0)\n",
      "Requirement already satisfied: zipp>=0.5 in /Users/nicoweiner/opt/anaconda3/lib/python3.7/site-packages (from importlib-metadata<2,>=0.12; python_version < \"3.8\"->tox->translate) (0.6.0)\n",
      "Requirement already satisfied: more-itertools in /Users/nicoweiner/opt/anaconda3/lib/python3.7/site-packages (from zipp>=0.5->importlib-metadata<2,>=0.12; python_version < \"3.8\"->tox->translate) (7.2.0)\n",
      "Requirement already satisfied: tensorflow>=2.0.0 in /Users/nicoweiner/opt/anaconda3/lib/python3.7/site-packages (2.1.0)\n",
      "Requirement already satisfied: protobuf>=3.8.0 in /Users/nicoweiner/opt/anaconda3/lib/python3.7/site-packages (from tensorflow>=2.0.0) (3.11.3)\n",
      "Requirement already satisfied: six>=1.12.0 in /Users/nicoweiner/opt/anaconda3/lib/python3.7/site-packages (from tensorflow>=2.0.0) (1.14.0)\n",
      "Requirement already satisfied: gast==0.2.2 in /Users/nicoweiner/opt/anaconda3/lib/python3.7/site-packages (from tensorflow>=2.0.0) (0.2.2)\n",
      "Requirement already satisfied: keras-preprocessing>=1.1.0 in /Users/nicoweiner/opt/anaconda3/lib/python3.7/site-packages (from tensorflow>=2.0.0) (1.1.0)\n",
      "Requirement already satisfied: wheel>=0.26; python_version >= \"3\" in /Users/nicoweiner/opt/anaconda3/lib/python3.7/site-packages (from tensorflow>=2.0.0) (0.33.6)\n",
      "Requirement already satisfied: scipy==1.4.1; python_version >= \"3\" in /Users/nicoweiner/opt/anaconda3/lib/python3.7/site-packages (from tensorflow>=2.0.0) (1.4.1)\n",
      "Requirement already satisfied: numpy<2.0,>=1.16.0 in /Users/nicoweiner/opt/anaconda3/lib/python3.7/site-packages (from tensorflow>=2.0.0) (1.17.2)\n",
      "Requirement already satisfied: absl-py>=0.7.0 in /Users/nicoweiner/opt/anaconda3/lib/python3.7/site-packages (from tensorflow>=2.0.0) (0.9.0)\n",
      "Requirement already satisfied: astor>=0.6.0 in /Users/nicoweiner/opt/anaconda3/lib/python3.7/site-packages (from tensorflow>=2.0.0) (0.8.1)\n",
      "Requirement already satisfied: opt-einsum>=2.3.2 in /Users/nicoweiner/opt/anaconda3/lib/python3.7/site-packages (from tensorflow>=2.0.0) (3.2.0)\n",
      "Requirement already satisfied: tensorflow-estimator<2.2.0,>=2.1.0rc0 in /Users/nicoweiner/opt/anaconda3/lib/python3.7/site-packages (from tensorflow>=2.0.0) (2.1.0)\n",
      "Requirement already satisfied: google-pasta>=0.1.6 in /Users/nicoweiner/opt/anaconda3/lib/python3.7/site-packages (from tensorflow>=2.0.0) (0.2.0)\n",
      "Requirement already satisfied: termcolor>=1.1.0 in /Users/nicoweiner/opt/anaconda3/lib/python3.7/site-packages (from tensorflow>=2.0.0) (1.1.0)\n",
      "Requirement already satisfied: keras-applications>=1.0.8 in /Users/nicoweiner/opt/anaconda3/lib/python3.7/site-packages (from tensorflow>=2.0.0) (1.0.8)\n"
     ]
    },
    {
     "name": "stdout",
     "output_type": "stream",
     "text": [
      "Requirement already satisfied: grpcio>=1.8.6 in /Users/nicoweiner/opt/anaconda3/lib/python3.7/site-packages (from tensorflow>=2.0.0) (1.27.2)\n",
      "Requirement already satisfied: tensorboard<2.2.0,>=2.1.0 in /Users/nicoweiner/opt/anaconda3/lib/python3.7/site-packages (from tensorflow>=2.0.0) (2.1.1)\n",
      "Requirement already satisfied: wrapt>=1.11.1 in /Users/nicoweiner/opt/anaconda3/lib/python3.7/site-packages (from tensorflow>=2.0.0) (1.11.2)\n",
      "Requirement already satisfied: setuptools in /Users/nicoweiner/opt/anaconda3/lib/python3.7/site-packages (from protobuf>=3.8.0->tensorflow>=2.0.0) (41.4.0)\n",
      "Requirement already satisfied: h5py in /Users/nicoweiner/opt/anaconda3/lib/python3.7/site-packages (from keras-applications>=1.0.8->tensorflow>=2.0.0) (2.9.0)\n",
      "Requirement already satisfied: werkzeug>=0.11.15 in /Users/nicoweiner/opt/anaconda3/lib/python3.7/site-packages (from tensorboard<2.2.0,>=2.1.0->tensorflow>=2.0.0) (0.16.0)\n",
      "Requirement already satisfied: markdown>=2.6.8 in /Users/nicoweiner/opt/anaconda3/lib/python3.7/site-packages (from tensorboard<2.2.0,>=2.1.0->tensorflow>=2.0.0) (3.2.1)\n",
      "Requirement already satisfied: google-auth-oauthlib<0.5,>=0.4.1 in /Users/nicoweiner/opt/anaconda3/lib/python3.7/site-packages (from tensorboard<2.2.0,>=2.1.0->tensorflow>=2.0.0) (0.4.1)\n",
      "Requirement already satisfied: requests<3,>=2.21.0 in /Users/nicoweiner/opt/anaconda3/lib/python3.7/site-packages (from tensorboard<2.2.0,>=2.1.0->tensorflow>=2.0.0) (2.22.0)\n",
      "Requirement already satisfied: google-auth<2,>=1.6.3 in /Users/nicoweiner/opt/anaconda3/lib/python3.7/site-packages (from tensorboard<2.2.0,>=2.1.0->tensorflow>=2.0.0) (1.11.3)\n",
      "Requirement already satisfied: requests-oauthlib>=0.7.0 in /Users/nicoweiner/opt/anaconda3/lib/python3.7/site-packages (from google-auth-oauthlib<0.5,>=0.4.1->tensorboard<2.2.0,>=2.1.0->tensorflow>=2.0.0) (1.3.0)\n",
      "Requirement already satisfied: chardet<3.1.0,>=3.0.2 in /Users/nicoweiner/opt/anaconda3/lib/python3.7/site-packages (from requests<3,>=2.21.0->tensorboard<2.2.0,>=2.1.0->tensorflow>=2.0.0) (3.0.4)\n",
      "Requirement already satisfied: idna<2.9,>=2.5 in /Users/nicoweiner/opt/anaconda3/lib/python3.7/site-packages (from requests<3,>=2.21.0->tensorboard<2.2.0,>=2.1.0->tensorflow>=2.0.0) (2.8)\n",
      "Requirement already satisfied: urllib3!=1.25.0,!=1.25.1,<1.26,>=1.21.1 in /Users/nicoweiner/opt/anaconda3/lib/python3.7/site-packages (from requests<3,>=2.21.0->tensorboard<2.2.0,>=2.1.0->tensorflow>=2.0.0) (1.24.2)\n",
      "Requirement already satisfied: certifi>=2017.4.17 in /Users/nicoweiner/opt/anaconda3/lib/python3.7/site-packages (from requests<3,>=2.21.0->tensorboard<2.2.0,>=2.1.0->tensorflow>=2.0.0) (2019.9.11)\n",
      "Requirement already satisfied: pyasn1-modules>=0.2.1 in /Users/nicoweiner/opt/anaconda3/lib/python3.7/site-packages (from google-auth<2,>=1.6.3->tensorboard<2.2.0,>=2.1.0->tensorflow>=2.0.0) (0.2.7)\n",
      "Requirement already satisfied: rsa<4.1,>=3.1.4 in /Users/nicoweiner/opt/anaconda3/lib/python3.7/site-packages (from google-auth<2,>=1.6.3->tensorboard<2.2.0,>=2.1.0->tensorflow>=2.0.0) (4.0)\n",
      "Requirement already satisfied: cachetools<5.0,>=2.0.0 in /Users/nicoweiner/opt/anaconda3/lib/python3.7/site-packages (from google-auth<2,>=1.6.3->tensorboard<2.2.0,>=2.1.0->tensorflow>=2.0.0) (4.0.0)\n",
      "Requirement already satisfied: oauthlib>=3.0.0 in /Users/nicoweiner/opt/anaconda3/lib/python3.7/site-packages (from requests-oauthlib>=0.7.0->google-auth-oauthlib<0.5,>=0.4.1->tensorboard<2.2.0,>=2.1.0->tensorflow>=2.0.0) (3.1.0)\n",
      "Requirement already satisfied: pyasn1<0.5.0,>=0.4.6 in /Users/nicoweiner/opt/anaconda3/lib/python3.7/site-packages (from pyasn1-modules>=0.2.1->google-auth<2,>=1.6.3->tensorboard<2.2.0,>=2.1.0->tensorflow>=2.0.0) (0.4.8)\n",
      "Requirement already up-to-date: tensorflow-hub in /Users/nicoweiner/opt/anaconda3/lib/python3.7/site-packages (0.7.0)\n",
      "Requirement already satisfied, skipping upgrade: protobuf>=3.4.0 in /Users/nicoweiner/opt/anaconda3/lib/python3.7/site-packages (from tensorflow-hub) (3.11.3)\n",
      "Requirement already satisfied, skipping upgrade: numpy>=1.12.0 in /Users/nicoweiner/opt/anaconda3/lib/python3.7/site-packages (from tensorflow-hub) (1.17.2)\n",
      "Requirement already satisfied, skipping upgrade: six>=1.10.0 in /Users/nicoweiner/opt/anaconda3/lib/python3.7/site-packages (from tensorflow-hub) (1.14.0)\n",
      "Requirement already satisfied, skipping upgrade: setuptools in /Users/nicoweiner/opt/anaconda3/lib/python3.7/site-packages (from protobuf>=3.4.0->tensorflow-hub) (41.4.0)\n",
      "Requirement already satisfied: tensorflow in /Users/nicoweiner/opt/anaconda3/lib/python3.7/site-packages (2.1.0)\n",
      "Requirement already satisfied: opt-einsum>=2.3.2 in /Users/nicoweiner/opt/anaconda3/lib/python3.7/site-packages (from tensorflow) (3.2.0)\n",
      "Requirement already satisfied: tensorboard<2.2.0,>=2.1.0 in /Users/nicoweiner/opt/anaconda3/lib/python3.7/site-packages (from tensorflow) (2.1.1)\n",
      "Requirement already satisfied: protobuf>=3.8.0 in /Users/nicoweiner/opt/anaconda3/lib/python3.7/site-packages (from tensorflow) (3.11.3)\n",
      "Requirement already satisfied: astor>=0.6.0 in /Users/nicoweiner/opt/anaconda3/lib/python3.7/site-packages (from tensorflow) (0.8.1)\n",
      "Requirement already satisfied: keras-applications>=1.0.8 in /Users/nicoweiner/opt/anaconda3/lib/python3.7/site-packages (from tensorflow) (1.0.8)\n",
      "Requirement already satisfied: keras-preprocessing>=1.1.0 in /Users/nicoweiner/opt/anaconda3/lib/python3.7/site-packages (from tensorflow) (1.1.0)\n",
      "Requirement already satisfied: gast==0.2.2 in /Users/nicoweiner/opt/anaconda3/lib/python3.7/site-packages (from tensorflow) (0.2.2)\n",
      "Requirement already satisfied: termcolor>=1.1.0 in /Users/nicoweiner/opt/anaconda3/lib/python3.7/site-packages (from tensorflow) (1.1.0)\n",
      "Requirement already satisfied: google-pasta>=0.1.6 in /Users/nicoweiner/opt/anaconda3/lib/python3.7/site-packages (from tensorflow) (0.2.0)\n",
      "Requirement already satisfied: numpy<2.0,>=1.16.0 in /Users/nicoweiner/opt/anaconda3/lib/python3.7/site-packages (from tensorflow) (1.17.2)\n",
      "Requirement already satisfied: tensorflow-estimator<2.2.0,>=2.1.0rc0 in /Users/nicoweiner/opt/anaconda3/lib/python3.7/site-packages (from tensorflow) (2.1.0)\n",
      "Requirement already satisfied: wrapt>=1.11.1 in /Users/nicoweiner/opt/anaconda3/lib/python3.7/site-packages (from tensorflow) (1.11.2)\n",
      "Requirement already satisfied: wheel>=0.26; python_version >= \"3\" in /Users/nicoweiner/opt/anaconda3/lib/python3.7/site-packages (from tensorflow) (0.33.6)\n",
      "Requirement already satisfied: scipy==1.4.1; python_version >= \"3\" in /Users/nicoweiner/opt/anaconda3/lib/python3.7/site-packages (from tensorflow) (1.4.1)\n",
      "Requirement already satisfied: absl-py>=0.7.0 in /Users/nicoweiner/opt/anaconda3/lib/python3.7/site-packages (from tensorflow) (0.9.0)\n",
      "Requirement already satisfied: grpcio>=1.8.6 in /Users/nicoweiner/opt/anaconda3/lib/python3.7/site-packages (from tensorflow) (1.27.2)\n",
      "Requirement already satisfied: six>=1.12.0 in /Users/nicoweiner/opt/anaconda3/lib/python3.7/site-packages (from tensorflow) (1.14.0)\n",
      "Requirement already satisfied: werkzeug>=0.11.15 in /Users/nicoweiner/opt/anaconda3/lib/python3.7/site-packages (from tensorboard<2.2.0,>=2.1.0->tensorflow) (0.16.0)\n",
      "Requirement already satisfied: requests<3,>=2.21.0 in /Users/nicoweiner/opt/anaconda3/lib/python3.7/site-packages (from tensorboard<2.2.0,>=2.1.0->tensorflow) (2.22.0)\n",
      "Requirement already satisfied: markdown>=2.6.8 in /Users/nicoweiner/opt/anaconda3/lib/python3.7/site-packages (from tensorboard<2.2.0,>=2.1.0->tensorflow) (3.2.1)\n",
      "Requirement already satisfied: google-auth-oauthlib<0.5,>=0.4.1 in /Users/nicoweiner/opt/anaconda3/lib/python3.7/site-packages (from tensorboard<2.2.0,>=2.1.0->tensorflow) (0.4.1)\n",
      "Requirement already satisfied: google-auth<2,>=1.6.3 in /Users/nicoweiner/opt/anaconda3/lib/python3.7/site-packages (from tensorboard<2.2.0,>=2.1.0->tensorflow) (1.11.3)\n",
      "Requirement already satisfied: setuptools>=41.0.0 in /Users/nicoweiner/opt/anaconda3/lib/python3.7/site-packages (from tensorboard<2.2.0,>=2.1.0->tensorflow) (41.4.0)\n",
      "Requirement already satisfied: h5py in /Users/nicoweiner/opt/anaconda3/lib/python3.7/site-packages (from keras-applications>=1.0.8->tensorflow) (2.9.0)\n",
      "Requirement already satisfied: urllib3!=1.25.0,!=1.25.1,<1.26,>=1.21.1 in /Users/nicoweiner/opt/anaconda3/lib/python3.7/site-packages (from requests<3,>=2.21.0->tensorboard<2.2.0,>=2.1.0->tensorflow) (1.24.2)\n",
      "Requirement already satisfied: idna<2.9,>=2.5 in /Users/nicoweiner/opt/anaconda3/lib/python3.7/site-packages (from requests<3,>=2.21.0->tensorboard<2.2.0,>=2.1.0->tensorflow) (2.8)\n"
     ]
    },
    {
     "name": "stdout",
     "output_type": "stream",
     "text": [
      "Requirement already satisfied: chardet<3.1.0,>=3.0.2 in /Users/nicoweiner/opt/anaconda3/lib/python3.7/site-packages (from requests<3,>=2.21.0->tensorboard<2.2.0,>=2.1.0->tensorflow) (3.0.4)\n",
      "Requirement already satisfied: certifi>=2017.4.17 in /Users/nicoweiner/opt/anaconda3/lib/python3.7/site-packages (from requests<3,>=2.21.0->tensorboard<2.2.0,>=2.1.0->tensorflow) (2019.9.11)\n",
      "Requirement already satisfied: requests-oauthlib>=0.7.0 in /Users/nicoweiner/opt/anaconda3/lib/python3.7/site-packages (from google-auth-oauthlib<0.5,>=0.4.1->tensorboard<2.2.0,>=2.1.0->tensorflow) (1.3.0)\n",
      "Requirement already satisfied: pyasn1-modules>=0.2.1 in /Users/nicoweiner/opt/anaconda3/lib/python3.7/site-packages (from google-auth<2,>=1.6.3->tensorboard<2.2.0,>=2.1.0->tensorflow) (0.2.7)\n",
      "Requirement already satisfied: rsa<4.1,>=3.1.4 in /Users/nicoweiner/opt/anaconda3/lib/python3.7/site-packages (from google-auth<2,>=1.6.3->tensorboard<2.2.0,>=2.1.0->tensorflow) (4.0)\n",
      "Requirement already satisfied: cachetools<5.0,>=2.0.0 in /Users/nicoweiner/opt/anaconda3/lib/python3.7/site-packages (from google-auth<2,>=1.6.3->tensorboard<2.2.0,>=2.1.0->tensorflow) (4.0.0)\n",
      "Requirement already satisfied: oauthlib>=3.0.0 in /Users/nicoweiner/opt/anaconda3/lib/python3.7/site-packages (from requests-oauthlib>=0.7.0->google-auth-oauthlib<0.5,>=0.4.1->tensorboard<2.2.0,>=2.1.0->tensorflow) (3.1.0)\n",
      "Requirement already satisfied: pyasn1<0.5.0,>=0.4.6 in /Users/nicoweiner/opt/anaconda3/lib/python3.7/site-packages (from pyasn1-modules>=0.2.1->google-auth<2,>=1.6.3->tensorboard<2.2.0,>=2.1.0->tensorflow) (0.4.8)\n",
      "Requirement already satisfied: numpy in /Users/nicoweiner/opt/anaconda3/lib/python3.7/site-packages (1.17.2)\n",
      "Collecting markovify\n",
      "  Downloading markovify-0.8.0.tar.gz (18 kB)\n",
      "Collecting unidecode\n",
      "  Using cached Unidecode-1.1.1-py2.py3-none-any.whl (238 kB)\n",
      "Building wheels for collected packages: markovify\n",
      "  Building wheel for markovify (setup.py) ... \u001b[?25ldone\n",
      "\u001b[?25h  Created wheel for markovify: filename=markovify-0.8.0-py3-none-any.whl size=10694 sha256=111a4653970d40d23cfe59ffe55a30cd48d47ac6c280b9a1e9ffd2841cd5540d\n",
      "  Stored in directory: /Users/nicoweiner/Library/Caches/pip/wheels/05/96/15/0ded02d3a0dddbc64202c8206791bda22af3d90e0fc1eaf056\n",
      "Successfully built markovify\n",
      "Installing collected packages: unidecode, markovify\n",
      "Successfully installed markovify-0.8.0 unidecode-1.1.1\n"
     ]
    }
   ],
   "source": [
    "# Required libraries\n",
    "\n",
    "!pip install --upgrade pip\n",
    "!pip install pandas\n",
    "!pip install numpy\n",
    "!pip install scikit-learn\n",
    "!pip install scipy\n",
    "!pip install nltk\n",
    "!pip install pydeepl\n",
    "!pip install translate\n",
    "!pip install \"tensorflow>=2.0.0\"\n",
    "!pip install --upgrade tensorflow-hub\n",
    "!pip install tensorflow\n",
    "!pip install numpy\n",
    "!pip install markovify\n",
    "\n",
    "\n",
    "from pandas import DataFrame, read_csv\n",
    "import pandas as pd\n",
    "import numpy as np\n",
    "import sklearn\n",
    "import sklearn.preprocessing\n",
    "from scipy import stats\n",
    "import nltk\n",
    "from nltk.corpus import stopwords\n",
    "import pydeepl\n",
    "import translate\n",
    "import tensorflow_hub as hub\n",
    "import tensorflow as tf\n",
    "import numpy as np\n",
    "import markovify\n"
   ]
  },
  {
   "cell_type": "markdown",
   "metadata": {},
   "source": [
    "## 01. Preparing the dataset 'Dutch Housing Superset'"
   ]
  },
  {
   "cell_type": "code",
   "execution_count": 10,
   "metadata": {},
   "outputs": [
    {
     "data": {
      "text/html": [
       "<div>\n",
       "<style scoped>\n",
       "    .dataframe tbody tr th:only-of-type {\n",
       "        vertical-align: middle;\n",
       "    }\n",
       "\n",
       "    .dataframe tbody tr th {\n",
       "        vertical-align: top;\n",
       "    }\n",
       "\n",
       "    .dataframe thead th {\n",
       "        text-align: right;\n",
       "    }\n",
       "</style>\n",
       "<table border=\"1\" class=\"dataframe\">\n",
       "  <thead>\n",
       "    <tr style=\"text-align: right;\">\n",
       "      <th></th>\n",
       "      <th>globalid</th>\n",
       "      <th>publicationdate</th>\n",
       "      <th>postcode</th>\n",
       "      <th>postcodelong</th>\n",
       "      <th>sellingprice</th>\n",
       "      <th>description</th>\n",
       "      <th>housetype</th>\n",
       "      <th>categoryhouse</th>\n",
       "      <th>constructionyear</th>\n",
       "      <th>gardenindication</th>\n",
       "      <th>totalarea</th>\n",
       "      <th>livingarea</th>\n",
       "      <th>dateofselling</th>\n",
       "      <th>city</th>\n",
       "      <th>province</th>\n",
       "      <th>country</th>\n",
       "      <th>ID</th>\n",
       "      <th>Neighborhoods</th>\n",
       "      <th>Municipality</th>\n",
       "      <th>Men</th>\n",
       "      <th>Women</th>\n",
       "      <th>0-15 years</th>\n",
       "      <th>15-25 years</th>\n",
       "      <th>25-45 years</th>\n",
       "      <th>45-65 years</th>\n",
       "      <th>65 years or older</th>\n",
       "      <th>one persons household</th>\n",
       "      <th>Households without kids</th>\n",
       "      <th>Households with kids</th>\n",
       "      <th>Population density</th>\n",
       "      <th>Buy houses</th>\n",
       "      <th>Rent houses</th>\n",
       "      <th>Total theft from home and barn</th>\n",
       "      <th>Average_income</th>\n",
       "      <th>timetosell</th>\n",
       "    </tr>\n",
       "  </thead>\n",
       "  <tbody>\n",
       "    <tr>\n",
       "      <td>0</td>\n",
       "      <td>4132354</td>\n",
       "      <td>2018-03-07</td>\n",
       "      <td>1011</td>\n",
       "      <td>1011VK</td>\n",
       "      <td>410000</td>\n",
       "      <td>OPEN AVOND 12 APRIL TUSSEN 17:00 - 19:00uur VR...</td>\n",
       "      <td>&lt;{tussenverdieping}&gt; (&lt;{appartement}&gt;)</td>\n",
       "      <td>&lt;{Appartement}&gt;</td>\n",
       "      <td>1964</td>\n",
       "      <td>0</td>\n",
       "      <td>NaN</td>\n",
       "      <td>53</td>\n",
       "      <td>2018-08-08</td>\n",
       "      <td>Amsterdam</td>\n",
       "      <td>Noord Holland</td>\n",
       "      <td>Netherlands</td>\n",
       "      <td>860</td>\n",
       "      <td>GM0363</td>\n",
       "      <td>Amsterdam</td>\n",
       "      <td>423114</td>\n",
       "      <td>430933</td>\n",
       "      <td>126007</td>\n",
       "      <td>109354</td>\n",
       "      <td>304288</td>\n",
       "      <td>208818</td>\n",
       "      <td>105580</td>\n",
       "      <td>258090</td>\n",
       "      <td>96088</td>\n",
       "      <td>113428</td>\n",
       "      <td>5160</td>\n",
       "      <td>30</td>\n",
       "      <td>70</td>\n",
       "      <td>5</td>\n",
       "      <td>28700</td>\n",
       "      <td>154 days</td>\n",
       "    </tr>\n",
       "    <tr>\n",
       "      <td>1</td>\n",
       "      <td>4087960</td>\n",
       "      <td>2018-02-01</td>\n",
       "      <td>1108</td>\n",
       "      <td>1108HC</td>\n",
       "      <td>175000</td>\n",
       "      <td>Indien u de woning zou willen bekijken mailt u...</td>\n",
       "      <td>&lt;{portiekflat}&gt; (&lt;{appartement}&gt;)</td>\n",
       "      <td>&lt;{Appartement}&gt;</td>\n",
       "      <td>1978</td>\n",
       "      <td>0</td>\n",
       "      <td>NaN</td>\n",
       "      <td>72</td>\n",
       "      <td>2018-02-19</td>\n",
       "      <td>Amsterdam Zuidoost</td>\n",
       "      <td>Noord Holland</td>\n",
       "      <td>Netherlands</td>\n",
       "      <td>860</td>\n",
       "      <td>GM0363</td>\n",
       "      <td>Amsterdam</td>\n",
       "      <td>423114</td>\n",
       "      <td>430933</td>\n",
       "      <td>126007</td>\n",
       "      <td>109354</td>\n",
       "      <td>304288</td>\n",
       "      <td>208818</td>\n",
       "      <td>105580</td>\n",
       "      <td>258090</td>\n",
       "      <td>96088</td>\n",
       "      <td>113428</td>\n",
       "      <td>5160</td>\n",
       "      <td>30</td>\n",
       "      <td>70</td>\n",
       "      <td>5</td>\n",
       "      <td>28700</td>\n",
       "      <td>18 days</td>\n",
       "    </tr>\n",
       "  </tbody>\n",
       "</table>\n",
       "</div>"
      ],
      "text/plain": [
       "  globalid publicationdate postcode postcodelong sellingprice  \\\n",
       "0  4132354      2018-03-07     1011       1011VK       410000   \n",
       "1  4087960      2018-02-01     1108       1108HC       175000   \n",
       "\n",
       "                                         description  \\\n",
       "0  OPEN AVOND 12 APRIL TUSSEN 17:00 - 19:00uur VR...   \n",
       "1  Indien u de woning zou willen bekijken mailt u...   \n",
       "\n",
       "                                housetype    categoryhouse constructionyear  \\\n",
       "0  <{tussenverdieping}> (<{appartement}>)  <{Appartement}>             1964   \n",
       "1       <{portiekflat}> (<{appartement}>)  <{Appartement}>             1978   \n",
       "\n",
       "  gardenindication totalarea livingarea dateofselling                city  \\\n",
       "0                0       NaN         53    2018-08-08           Amsterdam   \n",
       "1                0       NaN         72    2018-02-19  Amsterdam Zuidoost   \n",
       "\n",
       "        province      country   ID Neighborhoods Municipality     Men   Women  \\\n",
       "0  Noord Holland  Netherlands  860    GM0363        Amsterdam  423114  430933   \n",
       "1  Noord Holland  Netherlands  860    GM0363        Amsterdam  423114  430933   \n",
       "\n",
       "  0-15 years 15-25 years 25-45 years 45-65 years 65 years or older  \\\n",
       "0     126007      109354      304288      208818            105580   \n",
       "1     126007      109354      304288      208818            105580   \n",
       "\n",
       "  one persons household Households without kids Households with kids  \\\n",
       "0                258090                   96088               113428   \n",
       "1                258090                   96088               113428   \n",
       "\n",
       "  Population density Buy houses Rent houses Total theft from home and barn  \\\n",
       "0               5160         30          70                              5   \n",
       "1               5160         30          70                              5   \n",
       "\n",
       "  Average_income timetosell  \n",
       "0          28700   154 days  \n",
       "1          28700    18 days  "
      ]
     },
     "execution_count": 10,
     "metadata": {},
     "output_type": "execute_result"
    }
   ],
   "source": [
    "superset = pd.read_csv(\"/Users/nicoweiner/opt/anaconda3/envs/MasterProject/Dutch Housing Superset.csv\", sep=',', error_bad_lines=False, index_col=False, dtype='unicode')\n",
    "pd.options.display.max_columns = None\n",
    "\n",
    "# creating df with all numerical columns and adding a timetosell column \n",
    "\n",
    "from datetime import datetime\n",
    "f = lambda x: datetime.strptime(x, '%Y-%m-%d')\n",
    "superset.publicationdate = superset.publicationdate.apply(f)\n",
    "superset.dateofselling = superset.dateofselling.apply(f)\n",
    "superset = superset.assign(timetosell = superset['dateofselling'] - superset['publicationdate'])\n",
    "superset.head(2)\n"
   ]
  },
  {
   "cell_type": "code",
   "execution_count": 20,
   "metadata": {},
   "outputs": [],
   "source": [
    "#path='/Users/nicoweiner/Desktop/superset.csv'\n",
    "#superset.to_csv(path, sep='\\t', encoding='utf-8', index=False)"
   ]
  },
  {
   "cell_type": "markdown",
   "metadata": {},
   "source": [
    "## 02. Counting # of characters to be translated"
   ]
  },
  {
   "cell_type": "code",
   "execution_count": 24,
   "metadata": {},
   "outputs": [
    {
     "name": "stdout",
     "output_type": "stream",
     "text": [
      "172537\n"
     ]
    }
   ],
   "source": [
    "text = superset.description\n",
    "text = text.astype(str)\n",
    "print(len(text))\n"
   ]
  },
  {
   "cell_type": "markdown",
   "metadata": {},
   "source": [
    "## 03. Exploring sentences\n"
   ]
  },
  {
   "cell_type": "code",
   "execution_count": 30,
   "metadata": {},
   "outputs": [
    {
     "ename": "NameError",
     "evalue": "name 'tf_upgrade_v2' is not defined",
     "output_type": "error",
     "traceback": [
      "\u001b[0;31m---------------------------------------------------------------------------\u001b[0m",
      "\u001b[0;31mNameError\u001b[0m                                 Traceback (most recent call last)",
      "\u001b[0;32m<ipython-input-30-501e533a6b2d>\u001b[0m in \u001b[0;36m<module>\u001b[0;34m\u001b[0m\n\u001b[1;32m      3\u001b[0m \u001b[0;31m# import numpy as np\u001b[0m\u001b[0;34m\u001b[0m\u001b[0;34m\u001b[0m\u001b[0;34m\u001b[0m\u001b[0m\n\u001b[1;32m      4\u001b[0m \u001b[0;34m\u001b[0m\u001b[0m\n\u001b[0;32m----> 5\u001b[0;31m \u001b[0mtf_upgrade_v2\u001b[0m\u001b[0;34m\u001b[0m\u001b[0;34m\u001b[0m\u001b[0m\n\u001b[0m\u001b[1;32m      6\u001b[0m \u001b[0mtf\u001b[0m\u001b[0;34m.\u001b[0m\u001b[0mcompat\u001b[0m\u001b[0;34m.\u001b[0m\u001b[0mv1\u001b[0m\u001b[0;34m.\u001b[0m\u001b[0mlogging\u001b[0m\u001b[0;34m.\u001b[0m\u001b[0mset_verbosity\u001b[0m\u001b[0;34m(\u001b[0m\u001b[0mtf\u001b[0m\u001b[0;34m.\u001b[0m\u001b[0mlogging\u001b[0m\u001b[0;34m.\u001b[0m\u001b[0mERROR\u001b[0m\u001b[0;34m)\u001b[0m\u001b[0;34m\u001b[0m\u001b[0;34m\u001b[0m\u001b[0m\n\u001b[1;32m      7\u001b[0m \u001b[0membed\u001b[0m \u001b[0;34m=\u001b[0m \u001b[0mhub\u001b[0m\u001b[0;34m.\u001b[0m\u001b[0mModule\u001b[0m\u001b[0;34m(\u001b[0m\u001b[0;34m\"https://tfhub.dev/google/universal-sentence-encoder/4\"\u001b[0m\u001b[0;34m)\u001b[0m\u001b[0;34m\u001b[0m\u001b[0;34m\u001b[0m\u001b[0m\n",
      "\u001b[0;31mNameError\u001b[0m: name 'tf_upgrade_v2' is not defined"
     ]
    }
   ],
   "source": [
    "# import tensorflow_hub as hub\n",
    "# import tensorflow as tf\n",
    "# import numpy as np\n",
    "\n",
    "tf_upgrade_v2 \n",
    "tf.compat.v1.logging.set_verbosity(tf.logging.ERROR)\n",
    "embed = hub.Module(\"https://tfhub.dev/google/universal-sentence-encoder/4\")\n",
    "\n",
    "def embed_texts(text):\n",
    "\n",
    "    # Reduce logging output.\n",
    "    tf.logging.set_verbosity(tf.logging.ERROR)\n",
    "\n",
    "    with tf.Session() as session:\n",
    "        session.run([tf.global_variables_initializer(), tf.tables_initializer()])\n",
    "        embeddings = session.run(embed(text))\n",
    "\n",
    "    return np.array(embeddings).tolist()\n",
    "\n",
    "embeddings = embed_texts(text)"
   ]
  },
  {
   "cell_type": "raw",
   "metadata": {},
   "source": [
    "word_count = 0\n",
    "char_count = 0\n",
    "usr_input = input(text)\n",
    "split_string = usr_input.split()\n",
    "word_count = len(split_string)\n",
    "\n",
    "for word in split_string:\n",
    "    \n",
    "    char_count += len(word)\n",
    "\n",
    "print(\"Total words : {}\".format(word_count))\n",
    "print(\"Total characters : {}\".format(char_count))"
   ]
  },
  {
   "cell_type": "markdown",
   "metadata": {},
   "source": [
    "## 04. NLG with Markov Chains"
   ]
  },
  {
   "cell_type": "code",
   "execution_count": 34,
   "metadata": {},
   "outputs": [
    {
     "data": {
      "text/plain": [
       "0    OPEN AVOND 12 APRIL TUSSEN 17:00 - 19:00uur VR...\n",
       "1    Indien u de woning zou willen bekijken mailt u...\n",
       "2    Op aantrekkelijke locatie, met uitzicht op een...\n",
       "Name: description, dtype: object"
      ]
     },
     "execution_count": 34,
     "metadata": {},
     "output_type": "execute_result"
    }
   ],
   "source": [
    "inp = text\n",
    "inp.head(3)"
   ]
  },
  {
   "cell_type": "code",
   "execution_count": null,
   "metadata": {},
   "outputs": [],
   "source": [
    "text_model = markovify.NewlineText(inp, state_size = 2)"
   ]
  },
  {
   "cell_type": "code",
   "execution_count": null,
   "metadata": {},
   "outputs": [],
   "source": []
  },
  {
   "cell_type": "code",
   "execution_count": null,
   "metadata": {},
   "outputs": [],
   "source": []
  },
  {
   "cell_type": "markdown",
   "metadata": {},
   "source": [
    "## 0x. Custom API for DeepL translations"
   ]
  },
  {
   "cell_type": "markdown",
   "metadata": {},
   "source": [
    "DeepL is a universal translator based on Neural Networks that outperforms the accuracy of Google Translator by various factors. It has a paid API access for 4,99€ per month + 0.01cent per 500 characters. In the following code, the main dataset that has been extracted from Funda.nl and enriched with various datasources such as CBS.nl, is being translated from Dutch to English. "
   ]
  },
  {
   "cell_type": "code",
   "execution_count": null,
   "metadata": {},
   "outputs": [],
   "source": [
    "# library pydeepl is applied here. \n",
    "\n",
    "# from_language = 'NL'\n",
    "# to_language = 'EN'\n",
    "\n",
    "# EN_superset = pydeepl.translate(superset.description, to_language, from_lang=from_language)\n",
    "# print(EN_superset)\n",
    "\n",
    "#EN_superset.to_csv(EN_superset, sep='\\t', encoding='utf-8')\n",
    "\n"
   ]
  }
 ],
 "metadata": {
  "kernelspec": {
   "display_name": "Python 3",
   "language": "python",
   "name": "python3"
  },
  "language_info": {
   "codemirror_mode": {
    "name": "ipython",
    "version": 3
   },
   "file_extension": ".py",
   "mimetype": "text/x-python",
   "name": "python",
   "nbconvert_exporter": "python",
   "pygments_lexer": "ipython3",
   "version": "3.7.4"
  }
 },
 "nbformat": 4,
 "nbformat_minor": 2
}
